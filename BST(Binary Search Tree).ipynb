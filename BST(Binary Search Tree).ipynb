{
 "cells": [
  {
   "cell_type": "markdown",
   "id": "d7b52014",
   "metadata": {},
   "source": [
    "# Using Linked List "
   ]
  },
  {
   "cell_type": "code",
   "execution_count": 1,
   "id": "7ed800d2",
   "metadata": {},
   "outputs": [],
   "source": [
    "class TreeNode:\n",
    "    def __init__(self,val):\n",
    "        self.data=val\n",
    "        self.left=None\n",
    "        self.right=None\n",
    "        \n",
    "def insert(root,val):\n",
    "    Node=TreeNode(val)\n",
    "    \n",
    "    if(root==None):\n",
    "        root=Node\n",
    "        return\n",
    "    \n",
    "    curr=root\n",
    "    while(True):\n",
    "        if(curr.data>=val):\n",
    "            if curr.left==None:\n",
    "                curr.left=Node\n",
    "                return\n",
    "            else:\n",
    "                curr=curr.left\n",
    "        else:\n",
    "            if curr.right==None:\n",
    "                curr.right=Node\n",
    "                return\n",
    "            else:\n",
    "                curr=curr.right\n",
    "            \n",
    "def traversal(root):\n",
    "    if (root==None):\n",
    "        return\n",
    "    traversal(root.left)\n",
    "    print(root.data)\n",
    "    traversal(root.right)\n",
    "    \n",
    "def search(root,val):\n",
    "    if not root:\n",
    "        return False\n",
    "    if root.data==val:\n",
    "        return True\n",
    "    elif root.data>val:\n",
    "        return search(root.left,val)\n",
    "    else:\n",
    "        return search(root.right,val)\n",
    "\n",
    "def pos_node(root,val):\n",
    "    if not root:\n",
    "        return None\n",
    "    if root.data==val:\n",
    "        return root\n",
    "    elif root.data>val:\n",
    "        return pos_node(root.left,val)\n",
    "    else:\n",
    "        return pos_node(root.right,val)\n",
    "\n",
    "def parent_node(root,node):\n",
    "    if not root:\n",
    "        return None\n",
    "    \n",
    "    lc=root.left\n",
    "    rc=root.right\n",
    "    \n",
    "    if root.data>node.data:\n",
    "        if  lc and lc==node:\n",
    "            return root\n",
    "        else:\n",
    "            return parent_node(root.left,node)\n",
    "        \n",
    "    else:\n",
    "        if  rc and rc==node:\n",
    "            return root\n",
    "        else:\n",
    "            return parent_node(root.right,node)\n",
    "        \n",
    "    \n",
    "def is_child(Node):\n",
    "    if  Node.left==None and  Node.right==None:\n",
    "        return True\n",
    "    return False\n",
    "\n",
    "def min_value_rst(Node):\n",
    "    curr=Node\n",
    "    while(curr.left):\n",
    "        curr=curr.left\n",
    "    return curr\n"
   ]
  },
  {
   "cell_type": "code",
   "execution_count": 2,
   "id": "0a692dd4",
   "metadata": {},
   "outputs": [],
   "source": [
    "node1=TreeNode(1)"
   ]
  },
  {
   "cell_type": "code",
   "execution_count": 3,
   "id": "625e46cc",
   "metadata": {},
   "outputs": [],
   "source": [
    "insert(node1,2)\n",
    "insert(node1,4)\n",
    "insert(node1,5)\n",
    "insert(node1,3)\n",
    "insert(node1,9)\n",
    "insert(node1,11)\n",
    "insert(node1,22)"
   ]
  },
  {
   "cell_type": "code",
   "execution_count": 4,
   "id": "b8eea685",
   "metadata": {},
   "outputs": [
    {
     "name": "stdout",
     "output_type": "stream",
     "text": [
      "1\n",
      "2\n",
      "3\n",
      "4\n",
      "5\n",
      "9\n",
      "11\n",
      "22\n"
     ]
    }
   ],
   "source": [
    "traversal(node1)"
   ]
  },
  {
   "cell_type": "code",
   "execution_count": 5,
   "id": "d2b8a0e5",
   "metadata": {},
   "outputs": [
    {
     "data": {
      "text/plain": [
       "True"
      ]
     },
     "execution_count": 5,
     "metadata": {},
     "output_type": "execute_result"
    }
   ],
   "source": [
    "search(node1,5)"
   ]
  },
  {
   "cell_type": "code",
   "execution_count": 7,
   "id": "46b8ec8d",
   "metadata": {},
   "outputs": [
    {
     "name": "stdout",
     "output_type": "stream",
     "text": [
      "<__main__.TreeNode object at 0x0000024D50216C90>\n"
     ]
    }
   ],
   "source": [
    "print(pos_node(node1,3))"
   ]
  },
  {
   "cell_type": "code",
   "execution_count": 8,
   "id": "9b2c78c8",
   "metadata": {},
   "outputs": [
    {
     "name": "stdout",
     "output_type": "stream",
     "text": [
      "9\n"
     ]
    }
   ],
   "source": [
    "print(pos_node(node1,9).data)"
   ]
  },
  {
   "cell_type": "code",
   "execution_count": 9,
   "id": "f385c018",
   "metadata": {},
   "outputs": [
    {
     "data": {
      "text/plain": [
       "2"
      ]
     },
     "execution_count": 9,
     "metadata": {},
     "output_type": "execute_result"
    }
   ],
   "source": [
    "parent_node(node1,pos_node(node1,4)).data"
   ]
  },
  {
   "cell_type": "code",
   "execution_count": null,
   "id": "c231f223",
   "metadata": {},
   "outputs": [],
   "source": []
  },
  {
   "cell_type": "code",
   "execution_count": null,
   "id": "340a1e46",
   "metadata": {},
   "outputs": [],
   "source": []
  },
  {
   "cell_type": "code",
   "execution_count": null,
   "id": "074b1e3b",
   "metadata": {},
   "outputs": [],
   "source": []
  },
  {
   "cell_type": "code",
   "execution_count": null,
   "id": "1baeb142",
   "metadata": {},
   "outputs": [],
   "source": []
  },
  {
   "cell_type": "code",
   "execution_count": null,
   "id": "6e571acf",
   "metadata": {},
   "outputs": [],
   "source": []
  },
  {
   "cell_type": "code",
   "execution_count": null,
   "id": "2d2a782f",
   "metadata": {},
   "outputs": [],
   "source": []
  },
  {
   "cell_type": "code",
   "execution_count": null,
   "id": "6e82490c",
   "metadata": {},
   "outputs": [],
   "source": []
  },
  {
   "cell_type": "code",
   "execution_count": null,
   "id": "775f0d5d",
   "metadata": {},
   "outputs": [],
   "source": []
  },
  {
   "cell_type": "code",
   "execution_count": null,
   "id": "3d32e23f",
   "metadata": {},
   "outputs": [],
   "source": []
  },
  {
   "cell_type": "code",
   "execution_count": null,
   "id": "03c82c40",
   "metadata": {},
   "outputs": [],
   "source": []
  },
  {
   "cell_type": "code",
   "execution_count": null,
   "id": "6b8e83e7",
   "metadata": {},
   "outputs": [],
   "source": []
  },
  {
   "cell_type": "code",
   "execution_count": null,
   "id": "fede920b",
   "metadata": {},
   "outputs": [],
   "source": []
  },
  {
   "cell_type": "code",
   "execution_count": 10,
   "id": "de73d518",
   "metadata": {},
   "outputs": [],
   "source": [
    "password=''"
   ]
  },
  {
   "cell_type": "code",
   "execution_count": 54,
   "id": "e58b173d",
   "metadata": {},
   "outputs": [],
   "source": [
    "def password_check(val):\n",
    "    if len(val)<8:\n",
    "        print('Password Length too Short !!')\n",
    "        return\n",
    "    if len(val)>20:\n",
    "        print(\"Password Length too Long !!!\")\n",
    "        return \n",
    "    \n",
    "    \n",
    "    temp1=\"1,2,3,4,5,6,7,8,9,0\"\n",
    "    temp2=\"!,@,#,$,%,^,&,),*,(\"\n",
    "    temp3=\"A,B,C,D,E,F,G,H,I,J,K,L,M,N,O,P,Q,R,S,T,U,V,W,X,Y,Z\"\n",
    "    \n",
    "    nums=temp1.split(',')\n",
    "    cap=temp2.split(',')\n",
    "    spe=temp3.split(',')\n",
    "    \n",
    "    flag_cap=0\n",
    "    flag_num=0\n",
    "    flag_spec=0\n",
    "    \n",
    "    for i in range(0,len(val)):\n",
    "        if val[i] in nums:\n",
    "            flag_num=1\n",
    "        elif val[i] in cap:\n",
    "            flag_cap=1\n",
    "        elif val[i] in spe:\n",
    "            flag_spec=1\n",
    "        else:\n",
    "            pass\n",
    "    \n",
    "    if flag_cap and flag_num and flag_spec:\n",
    "        print(\"Successfully Created the Password\")\n",
    "    else:\n",
    "        print(\"Password is invalid\")\n",
    "        \n",
    "    return     \n",
    "            \n",
    "                \n",
    "    \n"
   ]
  },
  {
   "cell_type": "code",
   "execution_count": 55,
   "id": "4e638782",
   "metadata": {},
   "outputs": [
    {
     "name": "stdout",
     "output_type": "stream",
     "text": [
      "Password Length too Short !!\n"
     ]
    }
   ],
   "source": [
    "password_check(password)"
   ]
  },
  {
   "cell_type": "code",
   "execution_count": 69,
   "id": "2098818c",
   "metadata": {},
   "outputs": [],
   "source": [
    "mobilen_no=''"
   ]
  },
  {
   "cell_type": "code",
   "execution_count": 70,
   "id": "74ce9963",
   "metadata": {},
   "outputs": [],
   "source": [
    "def mobile_no_checker(val):\n",
    "    if len(val)!=10:\n",
    "        print(\"Invalid Mobile no\")\n",
    "        return \n",
    "    nums=['1','2','3','4','5','6','7','8','9','0']\n",
    "    \n",
    "    for i in range(0,10):\n",
    "        if val[i] not in nums:\n",
    "            print(\"Provide only numbers !!\")\n",
    "            return \n",
    "        else:\n",
    "            pass\n",
    "        \n",
    "    print(\"Sucessful!!!\")\n",
    "    return "
   ]
  },
  {
   "cell_type": "code",
   "execution_count": 71,
   "id": "18df4cdc",
   "metadata": {},
   "outputs": [
    {
     "name": "stdout",
     "output_type": "stream",
     "text": [
      "Sucessful!!!\n"
     ]
    }
   ],
   "source": [
    "mobile_no_checker(mobilen_no)"
   ]
  },
  {
   "cell_type": "code",
   "execution_count": null,
   "id": "4ea76fb6",
   "metadata": {},
   "outputs": [],
   "source": []
  }
 ],
 "metadata": {
  "kernelspec": {
   "display_name": "Python 3 (ipykernel)",
   "language": "python",
   "name": "python3"
  },
  "language_info": {
   "codemirror_mode": {
    "name": "ipython",
    "version": 3
   },
   "file_extension": ".py",
   "mimetype": "text/x-python",
   "name": "python",
   "nbconvert_exporter": "python",
   "pygments_lexer": "ipython3",
   "version": "3.11.0"
  }
 },
 "nbformat": 4,
 "nbformat_minor": 5
}
