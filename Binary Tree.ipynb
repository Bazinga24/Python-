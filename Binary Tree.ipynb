{
 "cells": [
  {
   "cell_type": "markdown",
   "id": "763575a3",
   "metadata": {},
   "source": [
    "# Binary Tree Using Linked LIst"
   ]
  },
  {
   "cell_type": "code",
   "execution_count": 17,
   "id": "fab49ab2",
   "metadata": {},
   "outputs": [],
   "source": [
    "class TreeNode:\n",
    "    def __init__(self,dataval=None):\n",
    "        self.data=dataval\n",
    "        self.left=None\n",
    "        self.right=None\n",
    "        \n",
    "def inorder_traversal(root):\n",
    "    if (root==None):\n",
    "         return\n",
    "    print(root.data)\n",
    "    inorder_traversal(root.left)\n",
    "    inorder_traversal(root.right)\n",
    "    \n",
    "def preorder_traversal(root):\n",
    "    if(root==None):\n",
    "        return\n",
    "    preorder_traversal(root.left)\n",
    "    print(root.data)\n",
    "    preorder_traversal(root.right)\n",
    "    \n",
    "def postorder_traversal(root):\n",
    "    if(root==None):\n",
    "        return\n",
    "    postorder_traversal(root.left)\n",
    "    postorder_traversal(root.right)\n",
    "    print(root.data)\n",
    "    \n",
    "def levelorder_traversal(root):\n",
    "    stk=[]\n",
    "    if root==None:\n",
    "        print('Tree is Empty !!!')\n",
    "        return\n",
    "    stk.append(root)\n",
    "    while(len(stk)!=0):\n",
    "        curr=stk.pop(0)\n",
    "        print(curr.data)\n",
    "        \n",
    "        if(curr.left!=None):\n",
    "            stk.append(curr.left)\n",
    "        \n",
    "        if(curr.right!=None):\n",
    "            stk.append(curr.right)          \n",
    "            \n",
    "\n",
    "def seach_val(root,val):\n",
    "   \n",
    "    if root==None:\n",
    "        return False\n",
    "    \n",
    "    if root.data==val:\n",
    "        return True\n",
    "    \n",
    "    left=seach_val(root.left,val)\n",
    "    right=seach_val(root.right,val)\n",
    "    \n",
    "    return (left or right)\n",
    "\n",
    "def insert_val(root,val):\n",
    "    stk=[]\n",
    "    node=TreeNode(val)\n",
    "    \n",
    "    if root==None:\n",
    "        root.left=node\n",
    "        return\n",
    "    \n",
    "    stk.append(root)\n",
    "    while(len(stk)!=0):\n",
    "        curr=stk.pop(0)\n",
    "        \n",
    "        if(curr.left==None):\n",
    "            curr.left=node\n",
    "            return\n",
    "        else:\n",
    "            stk.append(curr.left)\n",
    "        \n",
    "        if(curr.right==None):\n",
    "            curr.right=node\n",
    "            return\n",
    "        else:\n",
    "            stk.append(curr.right)\n",
    "        \n",
    "def is_child(node):\n",
    "    if node.left==None and node.right==None:\n",
    "        return True\n",
    "    return False\n",
    "\n",
    "def pos(root,val):\n",
    "    if root==None:\n",
    "        return\n",
    "    \n",
    "    if root.data==val:\n",
    "        return root\n",
    "    \n",
    "    left=pos(root.left,val)\n",
    "    right=pos(root.right,val)\n",
    "    \n",
    "    return (left or right)\n",
    "    \n",
    "def swap(node1,node2):\n",
    "    temp=node1.data\n",
    "    node1.data=node2.data\n",
    "    node2.data=temp\n",
    "    \n",
    "def deepest_node(root):\n",
    "    if root==None:\n",
    "        print('No nodes found !!')\n",
    "        return\n",
    "    \n",
    "    stk=[]\n",
    "    stk.append(root)\n",
    "    \n",
    "    while(len(stk)!=0):\n",
    "        curr=stk[0]\n",
    "        stk.pop(0)\n",
    "        \n",
    "        if(curr.left!=None):\n",
    "            stk.append(curr.left)\n",
    "            \n",
    "        if(curr.right!=None):\n",
    "            stk.append(curr.right)\n",
    "            \n",
    "    return curr\n",
    "\n",
    "def parent_node(root,node):\n",
    "    if(node==root):\n",
    "        print(\"This is the root node !!\")\n",
    "        return\n",
    "    \n",
    "    stk=[]\n",
    "    stk.append(root)\n",
    "    \n",
    "    while(len(stk)!=0):\n",
    "        curr=stk[0]\n",
    "        stk.pop(0)\n",
    "        \n",
    "        if(curr.left==node):\n",
    "            return curr\n",
    "        elif(curr.left!=None):\n",
    "            stk.append(curr.left)\n",
    "        \n",
    "    \n",
    "            \n",
    "        if(curr.right==node):\n",
    "            return curr\n",
    "        elif(curr.right!=None):\n",
    "            stk.append(curr.left)\n",
    "\n",
    "            \n",
    "def delete_deepest(root,deep_node):\n",
    "    if(root==None):\n",
    "        return\n",
    "    else:\n",
    "        stk=[]\n",
    "        stk.append(root)\n",
    "\n",
    "        while(len(stk)!=0):\n",
    "            curr=stk[0]\n",
    "            stk.pop(0)\n",
    "\n",
    "            if(curr.left!=None):\n",
    "                if curr.left==deep_node:\n",
    "                    curr.left=None\n",
    "                    return\n",
    "                else:\n",
    "                    stk.append(curr.left)\n",
    "\n",
    "            if(curr.right!=None):\n",
    "                if curr.right==deep_node:\n",
    "                    curr.right=None\n",
    "                    return\n",
    "                else:\n",
    "                    stk.append(curr.right)\n",
    "        return     \n",
    "        \n",
    "    \n",
    "    \n",
    "def delete_node(root,val):\n",
    "    \n",
    "    node1=pos(root,val)\n",
    "    if not node1:\n",
    "        print(\"Invalid Request\")\n",
    "        return\n",
    "    \n",
    "    node2=deepest_node(root)\n",
    "    \n",
    "    temp=node1.data\n",
    "    node1.data=node2.data\n",
    "    node2.data=temp\n",
    "    \n",
    "    delete_deepest(root,node2)\n",
    "    \n",
    "        \n",
    "    return    \n",
    "    \n",
    "def delete_bt(root):\n",
    "    root.left=None\n",
    "    root.right=None\n",
    "    root.data=None\n",
    "    return\n"
   ]
  },
  {
   "cell_type": "code",
   "execution_count": 18,
   "id": "3c53e071",
   "metadata": {},
   "outputs": [],
   "source": [
    "node1=TreeNode(1)\n",
    "node2=TreeNode(2)\n",
    "node3=TreeNode(3)\n",
    "node4=TreeNode(4)\n",
    "node5=TreeNode(5)"
   ]
  },
  {
   "cell_type": "code",
   "execution_count": 19,
   "id": "0806ef58",
   "metadata": {},
   "outputs": [],
   "source": [
    "node1.left=node2\n",
    "node1.right=node3\n",
    "node2.left=node4\n",
    "node3.right=node5"
   ]
  },
  {
   "cell_type": "code",
   "execution_count": 4,
   "id": "df7f7ac4",
   "metadata": {},
   "outputs": [
    {
     "name": "stdout",
     "output_type": "stream",
     "text": [
      "1\n",
      "2\n",
      "4\n",
      "3\n",
      "5\n"
     ]
    }
   ],
   "source": [
    "inorder_traversal(node1)"
   ]
  },
  {
   "cell_type": "code",
   "execution_count": 5,
   "id": "0d3d9b97",
   "metadata": {},
   "outputs": [
    {
     "name": "stdout",
     "output_type": "stream",
     "text": [
      "4\n",
      "2\n",
      "1\n",
      "3\n",
      "5\n"
     ]
    }
   ],
   "source": [
    "preorder_traversal(node1)"
   ]
  },
  {
   "cell_type": "code",
   "execution_count": 6,
   "id": "7aba530d",
   "metadata": {},
   "outputs": [
    {
     "name": "stdout",
     "output_type": "stream",
     "text": [
      "4\n",
      "2\n",
      "5\n",
      "3\n",
      "1\n"
     ]
    }
   ],
   "source": [
    "postorder_traversal(node1)"
   ]
  },
  {
   "cell_type": "code",
   "execution_count": 7,
   "id": "06eb4362",
   "metadata": {},
   "outputs": [
    {
     "name": "stdout",
     "output_type": "stream",
     "text": [
      "1\n",
      "2\n",
      "3\n",
      "4\n",
      "5\n"
     ]
    }
   ],
   "source": [
    "levelorder_traversal(node1)"
   ]
  },
  {
   "cell_type": "code",
   "execution_count": 8,
   "id": "abb0bf6f",
   "metadata": {},
   "outputs": [
    {
     "data": {
      "text/plain": [
       "True"
      ]
     },
     "execution_count": 8,
     "metadata": {},
     "output_type": "execute_result"
    }
   ],
   "source": [
    "seach_val(node1,5)"
   ]
  },
  {
   "cell_type": "code",
   "execution_count": 9,
   "id": "3eda3589",
   "metadata": {},
   "outputs": [
    {
     "name": "stdout",
     "output_type": "stream",
     "text": [
      "2\n",
      "1\n"
     ]
    }
   ],
   "source": [
    "print(pos(node1,2).data)\n",
    "print(parent_node(node1,node2).data)"
   ]
  },
  {
   "cell_type": "code",
   "execution_count": 10,
   "id": "59a65e9b",
   "metadata": {},
   "outputs": [
    {
     "data": {
      "text/plain": [
       "True"
      ]
     },
     "execution_count": 10,
     "metadata": {},
     "output_type": "execute_result"
    }
   ],
   "source": [
    "is_child(node4)"
   ]
  },
  {
   "cell_type": "code",
   "execution_count": 11,
   "id": "61bee5dc",
   "metadata": {},
   "outputs": [],
   "source": [
    "delete_node(node1,3)"
   ]
  },
  {
   "cell_type": "code",
   "execution_count": 12,
   "id": "d6cd9ddf",
   "metadata": {},
   "outputs": [
    {
     "name": "stdout",
     "output_type": "stream",
     "text": [
      "1\n",
      "2\n",
      "4\n",
      "5\n"
     ]
    }
   ],
   "source": [
    "inorder_traversal(node1)"
   ]
  },
  {
   "cell_type": "code",
   "execution_count": 13,
   "id": "0fca27b6",
   "metadata": {},
   "outputs": [],
   "source": [
    "delete_node(node1,2)"
   ]
  },
  {
   "cell_type": "code",
   "execution_count": 14,
   "id": "53b7c60f",
   "metadata": {},
   "outputs": [
    {
     "name": "stdout",
     "output_type": "stream",
     "text": [
      "1\n",
      "4\n",
      "5\n"
     ]
    }
   ],
   "source": [
    "inorder_traversal(node1)"
   ]
  },
  {
   "cell_type": "code",
   "execution_count": 20,
   "id": "02683f0d",
   "metadata": {},
   "outputs": [],
   "source": [
    "delete_node(node1,1)"
   ]
  },
  {
   "cell_type": "code",
   "execution_count": 21,
   "id": "b43ebbae",
   "metadata": {},
   "outputs": [
    {
     "name": "stdout",
     "output_type": "stream",
     "text": [
      "5\n",
      "2\n",
      "4\n",
      "3\n"
     ]
    }
   ],
   "source": [
    "inorder_traversal(node1)"
   ]
  },
  {
   "cell_type": "code",
   "execution_count": 22,
   "id": "bd13c56e",
   "metadata": {},
   "outputs": [],
   "source": [
    "delete_bt(node1)"
   ]
  },
  {
   "cell_type": "code",
   "execution_count": 23,
   "id": "cb3dff2f",
   "metadata": {},
   "outputs": [
    {
     "name": "stdout",
     "output_type": "stream",
     "text": [
      "None\n"
     ]
    }
   ],
   "source": [
    "inorder_traversal(node1)"
   ]
  },
  {
   "cell_type": "code",
   "execution_count": null,
   "id": "58b5c796",
   "metadata": {},
   "outputs": [],
   "source": []
  },
  {
   "cell_type": "markdown",
   "id": "d047e905",
   "metadata": {},
   "source": [
    "# Binary Tree Using List/Array !"
   ]
  },
  {
   "cell_type": "code",
   "execution_count": 143,
   "id": "319dd3c7",
   "metadata": {},
   "outputs": [],
   "source": [
    "class Btree:\n",
    "    def __init__(self,size):\n",
    "        self.customList=[None]*size\n",
    "        self.lastIndex=0\n",
    "        self.maxsize=size\n",
    "        \n",
    "    def insert(self,val):\n",
    "        if self.lastIndex+1==self.maxsize:\n",
    "            print(\"The tree is full !!!\")\n",
    "            return\n",
    "        else:\n",
    "            self.customList[self.lastIndex+1]=val\n",
    "            self.lastIndex+=1\n",
    "            print(\"Value Sucessfully inserted !!\")\n",
    "            return \n",
    "        \n",
    "        \n",
    "    def search_(self,val):\n",
    "        for i in range(1,self.lastIndex+1):\n",
    "            if(val==self.customList[i]):\n",
    "                return True\n",
    "        return False    \n",
    "     \n",
    "    def pre_order(self,idx):\n",
    "        if idx>self.lastIndex:\n",
    "            return\n",
    "        print(self.customList[idx])\n",
    "        self.pre_order(idx*2)\n",
    "        self.pre_order(idx*2+1)\n",
    "        \n",
    "    def post_order(self,idx):\n",
    "        if idx>self.lastIndex:\n",
    "            return\n",
    "        self.post_order(idx*2)\n",
    "        self.post_order(idx*2+1)\n",
    "        print(self.customList[idx])\n",
    "        \n",
    "    def in_order(self,idx):\n",
    "        if idx>self.lastIndex:\n",
    "            return\n",
    "        self.in_order(idx*2)\n",
    "        print(self.customList[idx])\n",
    "        self.in_order(idx*2+1)\n",
    "\n",
    "    \n",
    "    def level_order(self):\n",
    "        for i in range(1,self.lastIndex+1):\n",
    "            print(self.customList[i])\n",
    "            \n",
    "            \n",
    "    def pos_node(self,val):\n",
    "        if self.lastIndex==0:\n",
    "            return \n",
    "        for i in range(1,len(self.customList)):\n",
    "            if self.customList[i]==val:\n",
    "                return i\n",
    "        return -1    \n",
    "    \n",
    "    def remove_node(self,val):\n",
    "        pos=self.pos_node(val)\n",
    "        \n",
    "        if pos==-1 or pos==None:\n",
    "            print('Invalid Operation !!')\n",
    "            \n",
    "        val2=self.customList[self.lastIndex]\n",
    "        \n",
    "        self.customList[pos]=val2\n",
    "        self.customList[self.lastIndex]=None\n",
    "        self.lastIndex-=1\n",
    "        return\n",
    "    \n",
    "    def delete_tree(self):\n",
    "        self.customList=None\n",
    "        return\n",
    "    "
   ]
  },
  {
   "cell_type": "code",
   "execution_count": 144,
   "id": "93552b29",
   "metadata": {},
   "outputs": [],
   "source": [
    "Tree=Btree(8)"
   ]
  },
  {
   "cell_type": "code",
   "execution_count": 145,
   "id": "c01e133c",
   "metadata": {},
   "outputs": [
    {
     "name": "stdout",
     "output_type": "stream",
     "text": [
      "Value Sucessfully inserted !!\n",
      "Value Sucessfully inserted !!\n",
      "Value Sucessfully inserted !!\n",
      "Value Sucessfully inserted !!\n",
      "Value Sucessfully inserted !!\n"
     ]
    }
   ],
   "source": [
    "for i in range(1,6):\n",
    "    Tree.insert(i)"
   ]
  },
  {
   "cell_type": "code",
   "execution_count": 117,
   "id": "cea94370",
   "metadata": {},
   "outputs": [
    {
     "data": {
      "text/plain": [
       "True"
      ]
     },
     "execution_count": 117,
     "metadata": {},
     "output_type": "execute_result"
    }
   ],
   "source": [
    "Tree.search_(5)"
   ]
  },
  {
   "cell_type": "code",
   "execution_count": 88,
   "id": "555d6b6e",
   "metadata": {},
   "outputs": [
    {
     "name": "stdout",
     "output_type": "stream",
     "text": [
      "1\n",
      "2\n",
      "4\n",
      "5\n",
      "3\n"
     ]
    }
   ],
   "source": [
    "Tree.pre_order(1)"
   ]
  },
  {
   "cell_type": "code",
   "execution_count": 82,
   "id": "498f9e57",
   "metadata": {},
   "outputs": [
    {
     "name": "stdout",
     "output_type": "stream",
     "text": [
      "4\n",
      "5\n",
      "2\n",
      "3\n",
      "1\n"
     ]
    }
   ],
   "source": [
    "Tree.post_order(1)"
   ]
  },
  {
   "cell_type": "code",
   "execution_count": 126,
   "id": "ec9cf225",
   "metadata": {},
   "outputs": [
    {
     "name": "stdout",
     "output_type": "stream",
     "text": [
      "1\n",
      "2\n",
      "3\n",
      "4\n",
      "5\n"
     ]
    }
   ],
   "source": [
    "Tree.level_order()"
   ]
  },
  {
   "cell_type": "code",
   "execution_count": 127,
   "id": "d1438603",
   "metadata": {},
   "outputs": [
    {
     "data": {
      "text/plain": [
       "3"
      ]
     },
     "execution_count": 127,
     "metadata": {},
     "output_type": "execute_result"
    }
   ],
   "source": [
    "\n",
    "Tree.pos_node(3)"
   ]
  },
  {
   "cell_type": "code",
   "execution_count": 146,
   "id": "ae313a75",
   "metadata": {},
   "outputs": [],
   "source": [
    "Tree.remove_node(3)"
   ]
  },
  {
   "cell_type": "code",
   "execution_count": 147,
   "id": "632ff27c",
   "metadata": {},
   "outputs": [
    {
     "name": "stdout",
     "output_type": "stream",
     "text": [
      "1\n",
      "2\n",
      "5\n",
      "4\n"
     ]
    }
   ],
   "source": [
    "Tree.level_order()"
   ]
  },
  {
   "cell_type": "code",
   "execution_count": null,
   "id": "54544130",
   "metadata": {},
   "outputs": [],
   "source": []
  },
  {
   "cell_type": "code",
   "execution_count": null,
   "id": "99ef8ae3",
   "metadata": {},
   "outputs": [],
   "source": []
  },
  {
   "cell_type": "code",
   "execution_count": null,
   "id": "b1a762df",
   "metadata": {},
   "outputs": [],
   "source": []
  }
 ],
 "metadata": {
  "kernelspec": {
   "display_name": "Python 3 (ipykernel)",
   "language": "python",
   "name": "python3"
  },
  "language_info": {
   "codemirror_mode": {
    "name": "ipython",
    "version": 3
   },
   "file_extension": ".py",
   "mimetype": "text/x-python",
   "name": "python",
   "nbconvert_exporter": "python",
   "pygments_lexer": "ipython3",
   "version": "3.11.0"
  }
 },
 "nbformat": 4,
 "nbformat_minor": 5
}
