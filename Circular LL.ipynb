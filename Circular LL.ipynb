{
 "cells": [
  {
   "cell_type": "code",
   "execution_count": 1,
   "id": "e61f6a56",
   "metadata": {},
   "outputs": [],
   "source": [
    "class Node:\n",
    "    def __init__(self,data_val=None):\n",
    "        self.data=data_val\n",
    "        self.next=None\n",
    "        \n",
    "class Clist:\n",
    "    def __init__(self):\n",
    "        self.head=None\n",
    "   \n",
    "    def traversal(self):    # Traversal of Circular Linked List\n",
    "        curr=self.head\n",
    "        \n",
    "        if curr==None:\n",
    "            print('Nothing to traverse')\n",
    "            return\n",
    "        \n",
    "        while(curr.next != self.head and curr.next):\n",
    "            print(curr.data)\n",
    "            curr=curr.next\n",
    "        print(curr.data)\n",
    "        return\n",
    "    \n",
    "    def insert_beg(self,dataval=None): # insertion at the start of circular Linked List\n",
    "        node=Node(dataval)\n",
    "        if self.head==None:\n",
    "            self.head=node\n",
    "            node.next=node\n",
    "            return\n",
    "        \n",
    "        else:\n",
    "            curr=self.head\n",
    "            while(curr.next!=self.head):\n",
    "                curr=curr.next\n",
    "            \n",
    "            node.next=self.head\n",
    "            self.head=node\n",
    "            curr.next=node\n",
    "            return\n",
    "    \n",
    "    def insert_end(self,dataval=None):\n",
    "        node=Node(dataval)\n",
    "        \n",
    "        if self.head==None:\n",
    "            self.head=node\n",
    "            node.next=node\n",
    "            return\n",
    "        else:\n",
    "            curr=self.head\n",
    "            while curr.next!=self.head:\n",
    "                curr=curr.next\n",
    "            curr.next=node\n",
    "            node.next=self.head\n",
    "            return\n",
    "    \n",
    "    def remove_beg(self):\n",
    "        if self.head==None:\n",
    "            print('Nothing to remove')\n",
    "            return\n",
    "        else:\n",
    "            curr=self.head\n",
    "            if curr.next==curr:\n",
    "                self.head=None\n",
    "                return\n",
    "            \n",
    "            while(curr.next!=self.head):\n",
    "                curr=curr.next\n",
    "            self.head=curr.next.next\n",
    "            curr.next=self.head\n",
    "            return\n",
    "        \n",
    "    def remove_end(self):\n",
    "        if self.head==None:\n",
    "            print('Nothing to remove')\n",
    "            return\n",
    "        else:\n",
    "            curr=self.head\n",
    "            if curr.next==curr:\n",
    "                self.head=None\n",
    "                return\n",
    "            prev=None\n",
    "            while(curr.next!=self.head):\n",
    "                prev=curr\n",
    "                curr=curr.next\n",
    "           \n",
    "            prev.next=curr.next\n",
    "            return \n",
    "           \n",
    "            \n",
    "        \n",
    "        \n",
    "\n",
    "node1=Node(1)\n",
    "node2=Node(2)\n",
    "node3=Node(3)\n",
    "node4=Node(4)\n",
    "clist=Clist()\n",
    "clist.head=node1\n",
    "node1.next=node2\n",
    "node2.next=node3\n",
    "node3.next=node4\n",
    "node4.next=node1"
   ]
  },
  {
   "cell_type": "code",
   "execution_count": 2,
   "id": "289190c0",
   "metadata": {},
   "outputs": [
    {
     "name": "stdout",
     "output_type": "stream",
     "text": [
      "1\n",
      "2\n",
      "3\n",
      "4\n"
     ]
    }
   ],
   "source": [
    "clist.traversal()"
   ]
  },
  {
   "cell_type": "code",
   "execution_count": 3,
   "id": "56d95e19",
   "metadata": {},
   "outputs": [
    {
     "name": "stdout",
     "output_type": "stream",
     "text": [
      "0\n",
      "1\n",
      "2\n",
      "3\n",
      "4\n"
     ]
    }
   ],
   "source": [
    "clist.insert_beg(0)\n",
    "clist.traversal()"
   ]
  },
  {
   "cell_type": "code",
   "execution_count": 8,
   "id": "da3e252d",
   "metadata": {},
   "outputs": [
    {
     "name": "stdout",
     "output_type": "stream",
     "text": [
      "Nothing to traverse\n"
     ]
    }
   ],
   "source": [
    "clist1=Clist()\n",
    "\n",
    "clist1.insert_beg(3)\n",
    "clist1.insert_beg(2)\n",
    "clist1.insert_beg(1)\n",
    "#clist1.remove_beg()\n",
    "clist1.remove_end()\n",
    "clist1.remove_end()\n",
    "clist1.remove_end()\n",
    "clist1.traversal()\n",
    "\n",
    "#clist1.insert_end(3)\n",
    "#clist1.insert_end(2)\n",
    "#clist1.insert_end(1)\n",
    "#clist1.traversal()"
   ]
  },
  {
   "cell_type": "code",
   "execution_count": null,
   "id": "3503c1a0",
   "metadata": {},
   "outputs": [],
   "source": []
  }
 ],
 "metadata": {
  "kernelspec": {
   "display_name": "Python 3 (ipykernel)",
   "language": "python",
   "name": "python3"
  },
  "language_info": {
   "codemirror_mode": {
    "name": "ipython",
    "version": 3
   },
   "file_extension": ".py",
   "mimetype": "text/x-python",
   "name": "python",
   "nbconvert_exporter": "python",
   "pygments_lexer": "ipython3",
   "version": "3.11.0"
  }
 },
 "nbformat": 4,
 "nbformat_minor": 5
}
