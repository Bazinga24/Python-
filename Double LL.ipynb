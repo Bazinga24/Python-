{
 "cells": [
  {
   "cell_type": "code",
   "execution_count": 4,
   "id": "0ece9c03",
   "metadata": {},
   "outputs": [],
   "source": [
    "class Node:\n",
    "    def __init__(self,dataval=None):\n",
    "        self.data=dataval\n",
    "        self.prev=None\n",
    "        self.next=None\n",
    "        "
   ]
  },
  {
   "cell_type": "code",
   "execution_count": 47,
   "id": "f4e0a8ee",
   "metadata": {},
   "outputs": [],
   "source": [
    "class DLL:\n",
    "    def __init__(self):\n",
    "        self.head=None\n",
    "        \n",
    "    def traversal(self):      # traversal of doubly linked list\n",
    "        if self.head==None:\n",
    "            print(\"Nothing to traverse\")\n",
    "            return\n",
    "        curr=self.head\n",
    "        while(curr):\n",
    "            print(curr.data)\n",
    "            curr=curr.next\n",
    "    \n",
    "    \n",
    "    def rev_traversal(self):  # reverse traversal of doubly linked list\n",
    "        if self.head==None:\n",
    "            print('Nothing to traverse')\n",
    "            return\n",
    "        else:\n",
    "            curr=self.head\n",
    "            while(curr.next):\n",
    "                curr=curr.next\n",
    "            \n",
    "            while(curr):\n",
    "                print(curr.data)\n",
    "                curr=curr.prev\n",
    "                \n",
    "            return\n",
    "        \n",
    "                \n",
    "    \n",
    "    def insert_beg(self,dataval=None):  # insert element at the start !!!\n",
    "        node=Node(dataval)\n",
    "        if(self.head==None):\n",
    "            self.head=node\n",
    "            return\n",
    "            \n",
    "        node.next=self.head\n",
    "        self.head.prev=node\n",
    "        self.head=node\n",
    "        return\n",
    "    \n",
    "    def insert_end(self,dataval=None): # insert element at the end !!!\n",
    "        node=Node(dataval)\n",
    "        if(self.head==None):\n",
    "            self.head=node\n",
    "            return\n",
    "        \n",
    "        curr=self.head\n",
    "        while(curr.next):\n",
    "            curr=curr.next\n",
    "            \n",
    "        curr.next=node\n",
    "        node.prev=curr\n",
    "        return\n",
    "    \n",
    "    def remove_beg(self):    # remove the element from the start \n",
    "        if(self.head==None):\n",
    "            print('Nothing to remove!!')\n",
    "            return\n",
    "        \n",
    "        self.head=self.head.next\n",
    "        return\n",
    "    \n",
    "    def remove_end(self):   # remove the element from end !!\n",
    "        if(self.head==None):\n",
    "            print('Nothing to remove!!')\n",
    "            return\n",
    "        \n",
    "        curr=self.head\n",
    "        while(curr.next):\n",
    "            curr=curr.next\n",
    "            \n",
    "        curr.prev.next=None\n",
    "        return\n",
    "        \n",
    "        \n",
    "            "
   ]
  },
  {
   "cell_type": "code",
   "execution_count": 48,
   "id": "2acdb973",
   "metadata": {},
   "outputs": [],
   "source": [
    "node1=Node(1)\n",
    "node2=Node(2)\n",
    "node3=Node(3)\n",
    "list1=DLL()\n",
    "list1.head=node1\n",
    "node1.next=node2\n",
    "node2.prev=node1\n",
    "node2.next=node3\n",
    "node3.prev=node2"
   ]
  },
  {
   "cell_type": "code",
   "execution_count": 49,
   "id": "894f0298",
   "metadata": {},
   "outputs": [
    {
     "name": "stdout",
     "output_type": "stream",
     "text": [
      "0\n",
      "1\n",
      "2\n",
      "3\n",
      "4\n"
     ]
    }
   ],
   "source": [
    "list1.insert_beg(0)\n",
    "list1.insert_end(4)\n",
    "#list1.remove_beg()\n",
    "list1.traversal()\n",
    "#list1.rev_traversal()"
   ]
  },
  {
   "cell_type": "code",
   "execution_count": 50,
   "id": "350887b9",
   "metadata": {},
   "outputs": [
    {
     "name": "stdout",
     "output_type": "stream",
     "text": [
      "0\n",
      "1\n",
      "2\n",
      "3\n"
     ]
    }
   ],
   "source": [
    "list1.remove_end()\n",
    "list1.traversal()"
   ]
  },
  {
   "cell_type": "code",
   "execution_count": null,
   "id": "20728f00",
   "metadata": {},
   "outputs": [],
   "source": []
  }
 ],
 "metadata": {
  "kernelspec": {
   "display_name": "Python 3 (ipykernel)",
   "language": "python",
   "name": "python3"
  },
  "language_info": {
   "codemirror_mode": {
    "name": "ipython",
    "version": 3
   },
   "file_extension": ".py",
   "mimetype": "text/x-python",
   "name": "python",
   "nbconvert_exporter": "python",
   "pygments_lexer": "ipython3",
   "version": "3.11.0"
  }
 },
 "nbformat": 4,
 "nbformat_minor": 5
}
