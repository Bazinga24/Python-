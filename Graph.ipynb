{
 "cells": [
  {
   "cell_type": "code",
   "execution_count": 123,
   "id": "2d060dca",
   "metadata": {},
   "outputs": [],
   "source": [
    "class Graph:\n",
    "    def __init__(self):\n",
    "        self.adjacency_list={}\n",
    "        self.visited=[]\n",
    "    \n",
    "    def addVertex(self,vertex):\n",
    "        if vertex not in self.adjacency_list.keys():\n",
    "            self.adjacency_list[vertex]=[]\n",
    "        return \n",
    "    \n",
    "    \n",
    "    def removeVertex(self,vertex):\n",
    "        for neighbour in self.adjacency_list[vertex]:\n",
    "            self.adjacency_list[neighbour].remove(vertex)\n",
    "        del self.adjacency_list[vertex]    \n",
    "            \n",
    "        \n",
    "    def addEdge(self,vertex1,vertex2):\n",
    "        if vertex1 in self.adjacency_list.keys() and vertex2 in self.adjacency_list.keys():\n",
    "            self.adjacency_list[vertex1].append(vertex2)\n",
    "            self.adjacency_list[vertex2].append(vertex1)\n",
    "            return True\n",
    "        return False\n",
    "    \n",
    "    \n",
    "    def removeEdge(self,vertex1,vertex2):\n",
    "        if vertex1 in self.adjacency_list.keys() and vertex2 in self.adjacency_list.keys():\n",
    "            self.adjacency_list[vertex1].remove(vertex2)\n",
    "            self.adjacency_list[vertex2].remove(vertex1)\n",
    "            return\n",
    "            \n",
    "            \n",
    "    def print_graph(self):\n",
    "        for vertex in self.adjacency_list.keys():\n",
    "            print(vertex,\":\",self.adjacency_list[vertex])\n",
    "        return    \n",
    "            \n",
    "    def bfs_traversal(self,start):\n",
    "        visited=[]\n",
    "        queue=[]\n",
    "        bfs=[]\n",
    "        \n",
    "        queue.append(start)\n",
    "        while len(queue)!=0:\n",
    "            curr=queue.pop(0)\n",
    "            if curr not in visited:\n",
    "                visited.append(curr)\n",
    "                bfs.append(curr)\n",
    "            for neighbour in self.adjacency_list[curr]:\n",
    "                if neighbour not in visited:\n",
    "                    visited.append(neighbour)\n",
    "                    queue.append(neighbour)\n",
    "                    bfs.append(neighbour)\n",
    "                    \n",
    "        for i in bfs:\n",
    "            print(i)\n",
    "            \n",
    "    def dfs_traversal(self,start):\n",
    "        visited=[]\n",
    "        stack=[]\n",
    "        dfs=[]\n",
    "        \n",
    "        stack.append(start)\n",
    "        while len(stack):\n",
    "            curr=stack.pop()\n",
    "            if curr not in stack:\n",
    "                visited.append(curr)\n",
    "            dfs.append(curr)\n",
    "            \n",
    "            for neighbour in self.adjacency_list[curr]:\n",
    "                if neighbour not in visited:\n",
    "                    visited.append(neighbour)\n",
    "                    stack.append(neighbour)\n",
    "       \n",
    "        for i in dfs:\n",
    "            print(i)\n",
    "            \n",
    "                     \n",
    "    def is_cycle_bfs(self,start):\n",
    "        visited=[]\n",
    "        queue=[]\n",
    "        \n",
    "\n",
    "        queue.append([start,-1])\n",
    "        \n",
    "        while(len(queue)):\n",
    "            curr=queue.pop(0)\n",
    "            if curr not in visited:\n",
    "                visited.append(curr[0])\n",
    "                for neighbour in self.adjacency_list[curr[0]]:\n",
    "                    if neighbour not in visited:\n",
    "                        queue.append([neighbour,curr[0]])\n",
    "                    elif neighbour!=curr[1]:\n",
    "                        return True\n",
    "        \n",
    "        return False\n",
    "            \n",
    "    def iscycle_dfs_util(self,vertex,parent,visited):\n",
    "        if vertex not in visited:\n",
    "            visited.append(vertex)\n",
    "            for neighbour in self.adjacency_list[vertex]:\n",
    "                if neighbour not in visited:\n",
    "                    self.iscycle_dfs_util(neighbour,vertex,visited)\n",
    "                elif neighbour!=parent:\n",
    "                    return True\n",
    "        return False            \n",
    "        \n",
    "        \n",
    "    def is_cycle_dfs(self,start):\n",
    "        visited=[]\n",
    "        return self.iscycle_dfs_util(start,-1,visited)\n",
    "        \n",
    "        "
   ]
  },
  {
   "cell_type": "code",
   "execution_count": 127,
   "id": "842a2e12",
   "metadata": {},
   "outputs": [
    {
     "name": "stdout",
     "output_type": "stream",
     "text": [
      "A : ['B', 'C']\n",
      "B : ['A', 'D']\n",
      "C : ['A', 'F']\n",
      "D : ['B', 'E']\n",
      "E : ['D', 'F']\n",
      "F : ['E', 'C']\n"
     ]
    }
   ],
   "source": [
    "graph=Graph()\n",
    "graph.addVertex('A')\n",
    "graph.addVertex('B')\n",
    "graph.addVertex('C')\n",
    "graph.addVertex('D')\n",
    "graph.addVertex('E')\n",
    "graph.addVertex('F')\n",
    "\n",
    "graph.addEdge('A','B')\n",
    "graph.addEdge('A','C')\n",
    "graph.addEdge('B','D')\n",
    "graph.addEdge('D','E')\n",
    "graph.addEdge('E','F')\n",
    "graph.addEdge('F','C')\n",
    "\n",
    "\n",
    "graph.print_graph()"
   ]
  },
  {
   "cell_type": "code",
   "execution_count": 109,
   "id": "c0d51951",
   "metadata": {},
   "outputs": [
    {
     "name": "stdout",
     "output_type": "stream",
     "text": [
      "A\n",
      "B\n",
      "C\n",
      "D\n",
      "F\n",
      "E\n"
     ]
    }
   ],
   "source": [
    "graph.bfs_traversal('A')"
   ]
  },
  {
   "cell_type": "code",
   "execution_count": 110,
   "id": "c59c9dee",
   "metadata": {},
   "outputs": [
    {
     "name": "stdout",
     "output_type": "stream",
     "text": [
      "A\n",
      "C\n",
      "F\n",
      "E\n",
      "D\n",
      "B\n"
     ]
    }
   ],
   "source": [
    "graph.dfs_traversal('A')"
   ]
  },
  {
   "cell_type": "code",
   "execution_count": 128,
   "id": "f1d2f445",
   "metadata": {},
   "outputs": [
    {
     "name": "stdout",
     "output_type": "stream",
     "text": [
      "True\n"
     ]
    }
   ],
   "source": [
    "print(graph.is_cycle_bfs('A'))"
   ]
  },
  {
   "cell_type": "code",
   "execution_count": 129,
   "id": "724672a8",
   "metadata": {},
   "outputs": [
    {
     "name": "stdout",
     "output_type": "stream",
     "text": [
      "True\n"
     ]
    }
   ],
   "source": [
    "print(graph.is_cycle_dfs('A'))"
   ]
  },
  {
   "cell_type": "code",
   "execution_count": null,
   "id": "aa0c1464",
   "metadata": {},
   "outputs": [],
   "source": []
  },
  {
   "cell_type": "code",
   "execution_count": null,
   "id": "f4b31633",
   "metadata": {},
   "outputs": [],
   "source": []
  },
  {
   "cell_type": "markdown",
   "id": "8dd2b48e",
   "metadata": {},
   "source": [
    "# Directed Graph"
   ]
  },
  {
   "cell_type": "code",
   "execution_count": 151,
   "id": "b6cac17a",
   "metadata": {},
   "outputs": [],
   "source": [
    "class D_Graph:\n",
    "    def __init__(self):\n",
    "        self.adjacency_list={}\n",
    "    \n",
    "    def add_vertex(self,vertex):\n",
    "        if vertex not in self.adjacency_list.keys():\n",
    "            self.adjacency_list[vertex]=[]\n",
    "        return   \n",
    "        \n",
    "    def add_Edge(self,vertex1,vertex2):\n",
    "        if vertex1 not in self.adjacency_list.keys():\n",
    "            self.adjacency_list[vertex1]=[]\n",
    "        self.adjacency_list[vertex1].append(vertex2)\n",
    "    \n",
    "    def print_graph(self):\n",
    "        for vertex in self.adjacency_list.keys():\n",
    "            print(vertex,\":\",self.adjacency_list[vertex])\n",
    "        return\n",
    "    def Topo_sort_util(self,start,visited,stack):\n",
    "        if start not in visited:\n",
    "            visited.append(start)\n",
    "            \n",
    "            \n",
    "            for neighbour in self.adjacency_list[start]:\n",
    "                if neighbour not in visited:\n",
    "                    self.Topo_sort_util(neighbour,visited,stack)\n",
    "        stack.append(start)\n",
    "\n",
    "    def Topo_sort(self):\n",
    "        visited=[]\n",
    "        stack=[]\n",
    "        for elements in self.adjacency_list.keys():\n",
    "            if elements not in visited: \n",
    "                self.Topo_sort_util(elements,visited,stack)\n",
    "        \n",
    "        while(len(stack)):\n",
    "            print(stack.pop())\n",
    "            \n",
    "    def is_cycle_util(self,vertex,visited):\n",
    "        if vertex not in visited:\n",
    "            visited.append(vertex)\n",
    "            for neighbour in self.adjacency_list[vertex]:\n",
    "                if self.is_cycle_util(neighbour,visited):\n",
    "                    return True\n",
    "            visited.remove(vertex)\n",
    "            return False\n",
    "        else:\n",
    "            return True\n",
    "            \n",
    "            \n",
    "    def is_cycle(self,start):\n",
    "        visited=[]\n",
    "        return self.is_cycle_util(start,visited)\n",
    "    \n",
    "    "
   ]
  },
  {
   "cell_type": "code",
   "execution_count": 158,
   "id": "0f598a93",
   "metadata": {},
   "outputs": [],
   "source": [
    "graph=D_Graph()\n",
    "graph.add_vertex('A')\n",
    "graph.add_vertex('B')\n",
    "graph.add_vertex('C')\n",
    "graph.add_vertex('D')\n",
    "\n",
    "graph.add_Edge('A','B')\n",
    "graph.add_Edge('B','D')\n",
    "graph.add_Edge('C','D')\n",
    "graph.add_Edge('A','C')"
   ]
  },
  {
   "cell_type": "code",
   "execution_count": 159,
   "id": "3f4d19b3",
   "metadata": {},
   "outputs": [
    {
     "name": "stdout",
     "output_type": "stream",
     "text": [
      "A : ['B', 'C']\n",
      "B : ['D']\n",
      "C : ['D']\n",
      "D : []\n"
     ]
    }
   ],
   "source": [
    "graph.print_graph()"
   ]
  },
  {
   "cell_type": "code",
   "execution_count": 78,
   "id": "5ab3d359",
   "metadata": {},
   "outputs": [],
   "source": [
    "#graph.Topo_sort()"
   ]
  },
  {
   "cell_type": "code",
   "execution_count": 160,
   "id": "1e4e07ac",
   "metadata": {},
   "outputs": [
    {
     "data": {
      "text/plain": [
       "False"
      ]
     },
     "execution_count": 160,
     "metadata": {},
     "output_type": "execute_result"
    }
   ],
   "source": [
    "graph.is_cycle('A')"
   ]
  },
  {
   "cell_type": "code",
   "execution_count": 29,
   "id": "aac7368e",
   "metadata": {},
   "outputs": [],
   "source": [
    "def convert(s: str, numRows: int) -> str:\n",
    "        j=0\n",
    "        k=0\n",
    "        res=[]\n",
    "\n",
    "        while(k!=len(s)):\n",
    "            temp=[0]*numRows\n",
    "        \n",
    "            if j==0:\n",
    "                while(j!=numRows and k!=len(s)):\n",
    "                    temp[j]=s[k]\n",
    "                    k+=1\n",
    "                    j+=1\n",
    "                j-=2    \n",
    "            else:\n",
    "                temp[j]=s[k]\n",
    "                j-=1\n",
    "                k+=1\n",
    "            res.append(temp)\n",
    "        \n",
    "        print(res)\n",
    "        for i in range(numRows):\n",
    "            for j in range(len(res)):\n",
    "                if res[j][i]!=0:\n",
    "                    print(res[j][i])"
   ]
  },
  {
   "cell_type": "code",
   "execution_count": 30,
   "id": "2a49f832",
   "metadata": {},
   "outputs": [
    {
     "name": "stdout",
     "output_type": "stream",
     "text": [
      "[['P', 'A', 'Y'], [0, 'P', 0], ['A', 'L', 'I'], [0, 'S', 0], ['H', 'I', 'R'], [0, 'I', 0], ['N', 'G', 0]]\n",
      "P\n",
      "A\n",
      "H\n",
      "N\n",
      "A\n",
      "P\n",
      "L\n",
      "S\n",
      "I\n",
      "I\n",
      "G\n",
      "Y\n",
      "I\n",
      "R\n"
     ]
    }
   ],
   "source": [
    "convert('PAYPALISHIRING',3)"
   ]
  },
  {
   "cell_type": "code",
   "execution_count": 1,
   "id": "50f5b4c6",
   "metadata": {},
   "outputs": [],
   "source": [
    "list =['blue','gree','red']\n",
    "visited=[]\n",
    "\n",
    "def back_track(list,visited):\n",
    "    for i in list:\n",
    "        if len(visited)==len(list):\n",
    "            print(visited)\n",
    "            visited.pop(i)\n",
    "            return \n",
    "        \n",
    "        if i not in visited:\n",
    "            visited.append(i)"
   ]
  },
  {
   "cell_type": "code",
   "execution_count": 22,
   "id": "5452ee1d",
   "metadata": {},
   "outputs": [],
   "source": [
    "def countAndSay( n: int) -> str:\n",
    "    if n==1:\n",
    "        return str(1)\n",
    "\n",
    "    res=countAndSay(n-1)\n",
    "    prev=res[0]\n",
    "    ans=\"\"\n",
    "    count=1\n",
    "    for i in range(1,len(res)):\n",
    "        if res[i]==prev:\n",
    "            count+=1\n",
    "        else:\n",
    "            ans=ans+str(count)\n",
    "            ans=ans+prev\n",
    "            count=1\n",
    "            prev=res[i]\n",
    "\n",
    "    ans = ans+str(count)\n",
    "    ans = ans+prev\n",
    "    return ans               "
   ]
  },
  {
   "cell_type": "code",
   "execution_count": 21,
   "id": "a4728bb8",
   "metadata": {},
   "outputs": [
    {
     "name": "stdout",
     "output_type": "stream",
     "text": [
      "2 1\n",
      "3 2\n",
      "4 2\n"
     ]
    },
    {
     "data": {
      "text/plain": [
       "'1211'"
      ]
     },
     "execution_count": 21,
     "metadata": {},
     "output_type": "execute_result"
    }
   ],
   "source": [
    "countAndSay(4)\n"
   ]
  },
  {
   "cell_type": "code",
   "execution_count": null,
   "id": "3ebdd96c",
   "metadata": {},
   "outputs": [],
   "source": []
  }
 ],
 "metadata": {
  "kernelspec": {
   "display_name": "Python 3 (ipykernel)",
   "language": "python",
   "name": "python3"
  },
  "language_info": {
   "codemirror_mode": {
    "name": "ipython",
    "version": 3
   },
   "file_extension": ".py",
   "mimetype": "text/x-python",
   "name": "python",
   "nbconvert_exporter": "python",
   "pygments_lexer": "ipython3",
   "version": "3.11.0"
  }
 },
 "nbformat": 4,
 "nbformat_minor": 5
}
