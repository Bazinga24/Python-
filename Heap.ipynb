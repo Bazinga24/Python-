{
 "cells": [
  {
   "cell_type": "markdown",
   "id": "fa7b99d9",
   "metadata": {},
   "source": [
    "# Binary Heap "
   ]
  },
  {
   "cell_type": "code",
   "execution_count": 8,
   "id": "4dae9804",
   "metadata": {},
   "outputs": [],
   "source": [
    "class Heap:\n",
    "    def __init__(self,size,type):\n",
    "        self.customList=[None]*(size+1)\n",
    "        self.curr_size=0\n",
    "        self.max_size=size+1\n",
    "        self.type=type\n",
    "        \n",
    "def peek(heap):\n",
    "    if not heap:\n",
    "        return\n",
    "    else:\n",
    "        return heap.customList[1]\n",
    "        \n",
    "def sizeof(heap):\n",
    "    if not heap:\n",
    "        return\n",
    "    else:\n",
    "        return heap.curr_size\n",
    "    \n",
    "def traversal(heap):\n",
    "    if not heap:\n",
    "        return\n",
    "    for i in range(1,heap.curr_size+1):\n",
    "        print(heap.customList[i])\n",
    "    return\n",
    "\n",
    "def min_heapify(heap,idx):\n",
    "    parent=int(idx/2)\n",
    "    while(parent>=1):\n",
    "        if heap.customList[parent]>heap.customList[idx]:\n",
    "            temp=heap.customList[idx]\n",
    "            heap.customList[idx]=heap.customList[parent]\n",
    "            heap.customList[parent]=temp\n",
    "            idx=parent\n",
    "            parent=int(idx/2)\n",
    "        else:\n",
    "            break\n",
    "    return\n",
    "\n",
    "def max_heapify(heap,idx):\n",
    "    parent=int(idx/2)\n",
    "    while(parent>=1):\n",
    "        if heap.customList[parent]<heap.customList[idx]:\n",
    "            temp=heap.customList[idx]\n",
    "            heap.customList[idx]=heap.customList[parent]\n",
    "            heap.customList[parent]=temp\n",
    "            idx=parent\n",
    "            parent=int(idx/2)\n",
    "        else:\n",
    "            break\n",
    "    return\n",
    "    \n",
    "    \n",
    "def insert(heap,val):\n",
    "    if heap.customList[1]==None:\n",
    "        heap.customList[1]=val\n",
    "        heap.curr_size+=1\n",
    "        return\n",
    "    \n",
    "    if heap.curr_size+1==heap.max_size:\n",
    "        print(\"Heap is completely filled !!!\")\n",
    "        return\n",
    "    \n",
    "    heap.customList[heap.curr_size+1]=val\n",
    "    heap.curr_size+=1\n",
    "    \n",
    "    \n",
    "    \n",
    "    if heap.type=='MIN':\n",
    "        min_heapify(heap,heap.curr_size)\n",
    "    else:\n",
    "        max_heapify(heap,heap.curr_size)\n",
    "    \n",
    "    return\n",
    "\n",
    "def index_of(heap,val):\n",
    "    for i in range(1,heap.curr_size+1):\n",
    "        if heap.customList[i]==val:\n",
    "            return i-1\n",
    "    return -1\n",
    "\n",
    "def extract(heap,)"
   ]
  },
  {
   "cell_type": "code",
   "execution_count": 9,
   "id": "034f0e62",
   "metadata": {},
   "outputs": [],
   "source": [
    "new_heap=Heap(5,'MIN')"
   ]
  },
  {
   "cell_type": "code",
   "execution_count": 10,
   "id": "bb75b219",
   "metadata": {},
   "outputs": [
    {
     "name": "stdout",
     "output_type": "stream",
     "text": [
      "Heap is completely filled !!!\n"
     ]
    }
   ],
   "source": [
    "insert(new_heap,1)\n",
    "insert(new_heap,2)\n",
    "insert(new_heap,3)\n",
    "insert(new_heap,4)\n",
    "insert(new_heap,0)\n",
    "insert(new_heap,5)"
   ]
  },
  {
   "cell_type": "code",
   "execution_count": 11,
   "id": "c1ebeb87",
   "metadata": {},
   "outputs": [
    {
     "name": "stdout",
     "output_type": "stream",
     "text": [
      "0\n",
      "1\n",
      "3\n",
      "4\n",
      "2\n"
     ]
    }
   ],
   "source": [
    "traversal(new_heap)"
   ]
  },
  {
   "cell_type": "code",
   "execution_count": 13,
   "id": "af20ecb7",
   "metadata": {},
   "outputs": [
    {
     "data": {
      "text/plain": [
       "-1"
      ]
     },
     "execution_count": 13,
     "metadata": {},
     "output_type": "execute_result"
    }
   ],
   "source": []
  },
  {
   "cell_type": "code",
   "execution_count": null,
   "id": "021b6cb1",
   "metadata": {},
   "outputs": [],
   "source": []
  }
 ],
 "metadata": {
  "kernelspec": {
   "display_name": "Python 3 (ipykernel)",
   "language": "python",
   "name": "python3"
  },
  "language_info": {
   "codemirror_mode": {
    "name": "ipython",
    "version": 3
   },
   "file_extension": ".py",
   "mimetype": "text/x-python",
   "name": "python",
   "nbconvert_exporter": "python",
   "pygments_lexer": "ipython3",
   "version": "3.11.0"
  }
 },
 "nbformat": 4,
 "nbformat_minor": 5
}
