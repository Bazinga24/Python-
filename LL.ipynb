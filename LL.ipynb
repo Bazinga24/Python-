{
 "cells": [
  {
   "cell_type": "markdown",
   "id": "6afd5dba",
   "metadata": {},
   "source": [
    "# Rice Rolling Simulator"
   ]
  },
  {
   "cell_type": "code",
   "execution_count": 6,
   "id": "2175b0ff",
   "metadata": {},
   "outputs": [
    {
     "name": "stdout",
     "output_type": "stream",
     "text": [
      "1. Roll the dice !!\n",
      "2. Exit !!   \n",
      "What do you want to do \n",
      "1\n",
      "3\n",
      "----------\n",
      "----------\n",
      "1. Roll the dice !!\n",
      "2. Exit !!   \n",
      "What do you want to do \n",
      "1\n",
      "6\n",
      "----------\n",
      "----------\n",
      "1. Roll the dice !!\n",
      "2. Exit !!   \n",
      "What do you want to do \n",
      "2\n",
      "Ok bye !!!!\n"
     ]
    }
   ],
   "source": [
    "import random as rd\n",
    "while True:\n",
    "    print('''1. Roll the dice !!\n",
    "2. Exit !!   ''')\n",
    "    \n",
    "    user=int(input('What do you want to do \\n'))\n",
    "    \n",
    "    if user==1:\n",
    "        number=rd.randint(1,6)\n",
    "        print(number)\n",
    "        print('----------')\n",
    "        print('----------')\n",
    "    else:\n",
    "        print(\"Ok bye !!!!\")\n",
    "        break\n",
    "        "
   ]
  },
  {
   "cell_type": "markdown",
   "id": "3b2f13d1",
   "metadata": {},
   "source": [
    "# Random Password Generator !"
   ]
  },
  {
   "cell_type": "code",
   "execution_count": 9,
   "id": "39a69c31",
   "metadata": {},
   "outputs": [
    {
     "name": "stdout",
     "output_type": "stream",
     "text": [
      "enter the length of password !5\n",
      "8F)Ey\n"
     ]
    }
   ],
   "source": [
    "passwordlen=int(input('enter the length of password !'))\n",
    "st=\"abcdefghijklmnopqrstuvwxyzABCDEFGHIJKLMNOPQRSTUVWXYZ123456789!@#$%^&*)(~|\\?\"\n",
    "p=\"\".join(rd.sample(st,passwordlen))\n",
    "print(p)"
   ]
  },
  {
   "cell_type": "code",
   "execution_count": 10,
   "id": "1b74cc7e",
   "metadata": {},
   "outputs": [],
   "source": [
    "from array import *"
   ]
  },
  {
   "cell_type": "code",
   "execution_count": 12,
   "id": "bd7588a8",
   "metadata": {},
   "outputs": [
    {
     "name": "stdout",
     "output_type": "stream",
     "text": [
      "array('i', [1, 2, 3, 4, 5, 6])\n"
     ]
    }
   ],
   "source": [
    "my_array=array('i',[1,2,3,4,5,6])\n",
    "print(my_array)"
   ]
  },
  {
   "cell_type": "code",
   "execution_count": 13,
   "id": "00334270",
   "metadata": {},
   "outputs": [
    {
     "name": "stdout",
     "output_type": "stream",
     "text": [
      "array('f', [1.0, 2.0, 3.0, 4.0, 5.0])\n"
     ]
    }
   ],
   "source": [
    "my_farray=array('f',[1,2,3,4,5])\n",
    "print(my_farray)"
   ]
  },
  {
   "cell_type": "code",
   "execution_count": 14,
   "id": "622d0e99",
   "metadata": {},
   "outputs": [
    {
     "name": "stdout",
     "output_type": "stream",
     "text": [
      "array('i', [0, 1, 2, 3, 4, 5, 6])\n"
     ]
    }
   ],
   "source": [
    "my_array.insert(0,0)\n",
    "print(my_array)"
   ]
  },
  {
   "cell_type": "code",
   "execution_count": 15,
   "id": "5ab8252c",
   "metadata": {},
   "outputs": [],
   "source": [
    "def traversal(arr):\n",
    "    for i in arr:\n",
    "        print(i)"
   ]
  },
  {
   "cell_type": "code",
   "execution_count": 17,
   "id": "2c1c23aa",
   "metadata": {},
   "outputs": [
    {
     "name": "stdout",
     "output_type": "stream",
     "text": [
      "0\n",
      "1\n",
      "2\n",
      "3\n",
      "4\n",
      "5\n",
      "6\n"
     ]
    }
   ],
   "source": [
    "traversal(my_array)\n"
   ]
  },
  {
   "cell_type": "code",
   "execution_count": 18,
   "id": "0b45a281",
   "metadata": {},
   "outputs": [],
   "source": [
    "def access(arr,pos):\n",
    "    if(pos<0 or pos>len(arr)):\n",
    "        print(\"ERROR :- index is not valid !!!!!\")\n",
    "    else:\n",
    "        print(arr[pos])"
   ]
  },
  {
   "cell_type": "code",
   "execution_count": 19,
   "id": "41b9ac0d",
   "metadata": {},
   "outputs": [
    {
     "name": "stdout",
     "output_type": "stream",
     "text": [
      "3\n",
      "ERROR :- index is not valid !!!!!\n"
     ]
    }
   ],
   "source": [
    "access(my_array,3)\n",
    "access(my_array,10)"
   ]
  },
  {
   "cell_type": "code",
   "execution_count": 20,
   "id": "d182127a",
   "metadata": {},
   "outputs": [],
   "source": [
    "def search(arr,ele):\n",
    "    for i in arr:\n",
    "        if arr[i]==ele:\n",
    "            return i\n",
    "    return False    "
   ]
  },
  {
   "cell_type": "code",
   "execution_count": 22,
   "id": "b7a4c01c",
   "metadata": {},
   "outputs": [
    {
     "data": {
      "text/plain": [
       "False"
      ]
     },
     "execution_count": 22,
     "metadata": {},
     "output_type": "execute_result"
    }
   ],
   "source": [
    "search(my_array,52)"
   ]
  },
  {
   "cell_type": "code",
   "execution_count": 23,
   "id": "b6962d3d",
   "metadata": {},
   "outputs": [
    {
     "name": "stdout",
     "output_type": "stream",
     "text": [
      "[1, 2, 3, 4, 5] ['egg', 'bread', 'tomato'] [1, 2, 3, 'hello', 4.5]\n"
     ]
    }
   ],
   "source": [
    "# different lists \n",
    "\n",
    "val1=[1,2,3,4,5]\n",
    "val2=['egg','bread','tomato']\n",
    "val3=[1,2,3,'hello',4.5]\n",
    "\n",
    "print(val1,val2,val3)"
   ]
  },
  {
   "cell_type": "code",
   "execution_count": 26,
   "id": "85d8d31e",
   "metadata": {},
   "outputs": [
    {
     "name": "stdout",
     "output_type": "stream",
     "text": [
      "True\n"
     ]
    }
   ],
   "source": [
    "# (in) operator in a list \n",
    "\n",
    "print('egg' in val2)"
   ]
  },
  {
   "cell_type": "code",
   "execution_count": 37,
   "id": "46a86703",
   "metadata": {},
   "outputs": [
    {
     "name": "stdout",
     "output_type": "stream",
     "text": [
      "[1, 2, 3, 4]\n",
      "[0, 1, 2, 3, 4]\n",
      "[0, 1, 2, 'new val', 3, 4]\n",
      "[0, 1, 2, 'new val', 3, 4, 5]\n",
      "['old_list', 0, 1, 2, 'new val', 3, 4, 5]\n"
     ]
    }
   ],
   "source": [
    "# different methods of inserting a value in the list !!!\n",
    "val=[1,2,3,4]\n",
    "print(val)\n",
    "\n",
    "val.insert(0,0) # insert at the start\n",
    "print(val)\n",
    "\n",
    "val.insert(3,'new val') # insert at a specific location\n",
    "print(val)\n",
    "\n",
    "val.append(5) #insert at the end!\n",
    "print(val)\n",
    "\n",
    "new_val=['old_list'] # add old list to new list\n",
    "new_val.extend(val)\n",
    "print(new_val)"
   ]
  },
  {
   "cell_type": "code",
   "execution_count": 103,
   "id": "33a3f5e0",
   "metadata": {},
   "outputs": [
    {
     "name": "stdout",
     "output_type": "stream",
     "text": [
      "[1, 2, 3, 4, 5, 6, 7, 8, 9]\n",
      "[1, 2, 3, 5, 6, 7, 8, 9]\n",
      "[1, 2, 3, 6, 7, 8, 9]\n",
      "[1, 2, 3, 6, 7, 9]\n",
      "[9, 7, 6, 3, 2, 1]\n"
     ]
    }
   ],
   "source": [
    "# differnt methods of deleting a value from the list !!!!\n",
    "\n",
    "val=[1,2,3,4,5,6,7,8,9]\n",
    "print(val)\n",
    "\n",
    "# remove a value from a specific position\n",
    "val.pop(3) # in this case at 3\n",
    "print(val)\n",
    "\n",
    "del val[3] # it can also delete multiple values by slicing !\n",
    "print(val)\n",
    "\n",
    "val.remove(8) # here 8 is the value not index \n",
    "print(val)\n",
    "\n",
    "print(sorted(val,reverse=True))"
   ]
  },
  {
   "cell_type": "code",
   "execution_count": 46,
   "id": "bf0f0c00",
   "metadata": {},
   "outputs": [
    {
     "name": "stdout",
     "output_type": "stream",
     "text": [
      "[1, 2, 3, 4, 5, 6, 7]\n",
      "[0, 0, 0, 0, 0]\n",
      "4\n"
     ]
    }
   ],
   "source": [
    "# some functions of list!!!\n",
    "\n",
    "# 1- + operator will concate the list\n",
    "l1=[1,2,3,4]\n",
    "l2=[5,6,7]\n",
    "print(l1+l2)\n",
    "\n",
    "# 2- * operator will repeat the values in the list\n",
    "\n",
    "binary=[0]\n",
    "print(binary*5)\n",
    "\n",
    "# 3- (len) function provides the length of the list\n",
    "print(len(l1))\n",
    "\n",
    "# some other inbuilt functions are \n",
    "# min,max,sum"
   ]
  },
  {
   "cell_type": "code",
   "execution_count": 56,
   "id": "ec08816d",
   "metadata": {},
   "outputs": [
    {
     "name": "stdout",
     "output_type": "stream",
     "text": [
      "['harsh', 'is', 'a', 'good', 'guy']\n",
      "---------------\n",
      "['h', 'a', 'r', 's', 'h']\n",
      "['i', 's']\n",
      "['a']\n",
      "['g', 'o', 'o', 'd']\n",
      "['g', 'u', 'y']\n",
      "harsh is a good guy\n"
     ]
    }
   ],
   "source": [
    "# strings in list \n",
    "\n",
    "st=\"harsh is a good guy\"\n",
    "print(st.split())\n",
    "vals=st.split()\n",
    "print('---------------')\n",
    "for i in vals:\n",
    "    print(list(i))\n",
    "\n",
    "print(' '.join(vals)) # joining the string from individual values    "
   ]
  },
  {
   "cell_type": "code",
   "execution_count": 63,
   "id": "819a4d10",
   "metadata": {},
   "outputs": [
    {
     "name": "stdout",
     "output_type": "stream",
     "text": [
      "{1: 'ek', 2: 'do', 3: 'teen'}\n",
      "----------\n",
      "{1: 'EK', 2: 'do', 3: 'teen'}\n",
      "{1: 'EK', 2: 'do', 3: 'teen', 4: 'char'}\n"
     ]
    }
   ],
   "source": [
    "# dictionary \n",
    "\n",
    "math_hind={1:'ek',2:'do',3:'teen'} # creation of dictionary\n",
    "print(math_hind)\n",
    "\n",
    "print('----------')\n",
    "math_hind[1]  # acess the value using key in dictionary\n",
    "\n",
    "math_hind[1]='EK'\n",
    "print(math_hind) # changing the value by acessing the element !\n",
    "\n",
    "math_hind[4]='char' # adding new item to our dictionary\n",
    "print(math_hind)"
   ]
  },
  {
   "cell_type": "code",
   "execution_count": 70,
   "id": "2744745c",
   "metadata": {},
   "outputs": [],
   "source": [
    "# traversal of dictionary !!!!\n",
    "\n",
    "def traverse_dict(dic):\n",
    "    for key in dic:\n",
    "        print(key,dic[key])"
   ]
  },
  {
   "cell_type": "code",
   "execution_count": 71,
   "id": "12643211",
   "metadata": {},
   "outputs": [
    {
     "name": "stdout",
     "output_type": "stream",
     "text": [
      "1 EK\n",
      "2 do\n",
      "3 teen\n",
      "4 char\n"
     ]
    }
   ],
   "source": [
    "traverse_dict(math_hind)"
   ]
  },
  {
   "cell_type": "code",
   "execution_count": 87,
   "id": "8845bb40",
   "metadata": {},
   "outputs": [],
   "source": [
    "def search_dict(dic,val):\n",
    "    for key in dic:\n",
    "        if dic[key]==val:\n",
    "            return True\n",
    "    return False    "
   ]
  },
  {
   "cell_type": "code",
   "execution_count": 88,
   "id": "da164b53",
   "metadata": {},
   "outputs": [
    {
     "data": {
      "text/plain": [
       "True"
      ]
     },
     "execution_count": 88,
     "metadata": {},
     "output_type": "execute_result"
    }
   ],
   "source": [
    "search_dict(math_hind,'do')"
   ]
  },
  {
   "cell_type": "code",
   "execution_count": 91,
   "id": "19116862",
   "metadata": {},
   "outputs": [
    {
     "name": "stdout",
     "output_type": "stream",
     "text": [
      "{2: 'do', 3: 'teen', 4: 'char'}\n"
     ]
    }
   ],
   "source": [
    "# remove item from dictionary !!!!\n",
    "math_hind.pop(1)\n",
    "print(math_hind)\n",
    "\n",
    "# popitem randomly deletes a value\n",
    "# clear methods deletes all value from dictionary\n",
    "# del method is used to delete a particular value "
   ]
  },
  {
   "cell_type": "code",
   "execution_count": 96,
   "id": "f408e774",
   "metadata": {},
   "outputs": [
    {
     "name": "stdout",
     "output_type": "stream",
     "text": [
      "{2: 'do', 3: 'teen', 4: 'char'}\n",
      "[(2, 'do'), (3, 'teen'), (4, 'char')]\n",
      "dict_values(['do', 'teen', 'char'])\n"
     ]
    }
   ],
   "source": [
    "# different functions in dictionary\n",
    "\n",
    "copy_dict=math_hind.copy() # it is used to copy one dictionary to another !!!!\n",
    "print(copy_dict)\n",
    "\n",
    "vals=list(math_hind.items())\n",
    "print(vals)\n",
    "\n",
    "#setdefault is useful func\n",
    "\n",
    "print(math_hind.values()) # returns the list of all values of a dictionary !!!!\n"
   ]
  },
  {
   "cell_type": "code",
   "execution_count": 102,
   "id": "de9b9fea",
   "metadata": {},
   "outputs": [
    {
     "name": "stdout",
     "output_type": "stream",
     "text": [
      "3\n",
      "[2, 3, 4]\n"
     ]
    }
   ],
   "source": [
    "# built in functions \n",
    "\n",
    "# 1- in opeartor\n",
    "\n",
    "def present(dic,val):\n",
    "    if val in dic:\n",
    "        return True\n",
    "    return False\n",
    "\n",
    "present(math_hind,8)\n",
    "\n",
    "# 2-len in dictionary\n",
    "\n",
    "print(len(math_hind))\n",
    "\n",
    "#3- sorted in dictionary \n",
    "print(sorted(math_hind,key=None))"
   ]
  },
  {
   "cell_type": "code",
   "execution_count": 107,
   "id": "07dffd43",
   "metadata": {},
   "outputs": [
    {
     "name": "stdout",
     "output_type": "stream",
     "text": [
      "(1, 2, 3, 4, 5, 6)\n",
      "(1, 2, 3, 4)\n",
      "('a', 'b', 'c', 'd', 'e', 'f')\n"
     ]
    }
   ],
   "source": [
    "# Tuple !!!!!!!!!!!!!\n",
    "\n",
    "# creation of tuple \n",
    "tup=(1,2,3,4,5,6)\n",
    "print(tup)\n",
    "\n",
    "tup2=tuple([1,2,3,4,])\n",
    "print(tup2)\n",
    "\n",
    "tup3=tuple('abcdef')\n",
    "print(tup3)\n",
    "\n",
    "# NOte:- while creating a tuple of single value use atleast one(,) comma\n",
    "\n"
   ]
  },
  {
   "cell_type": "code",
   "execution_count": 80,
   "id": "5406f28f",
   "metadata": {},
   "outputs": [
    {
     "name": "stdout",
     "output_type": "stream",
     "text": [
      "1\n",
      "2\n",
      "3\n"
     ]
    }
   ],
   "source": [
    "# Linked List \n",
    "\n",
    "class Node:\n",
    "    def __init__(self,dataval=None):\n",
    "        self.data=dataval\n",
    "        self.next=None\n",
    "\n",
    "class SingleLL:\n",
    "    def __init__(self):\n",
    "        self.head=None\n",
    "        \n",
    "    def traverse(self): # traversal of single linked list !!!!\n",
    "        curr=self.head\n",
    "        while(curr):\n",
    "            print(curr.data)\n",
    "            curr=curr.next\n",
    "       \n",
    "    def insert_beg(self,val=None): # insert at the start\n",
    "        value=Node(val)\n",
    "        value.next=self.head\n",
    "        self.head=value\n",
    "    \n",
    "    def insert_end(self,val=None): # insert at the end\n",
    "        value=Node(val)\n",
    "        curr=self.head\n",
    "        while(curr.next):\n",
    "            curr=curr.next\n",
    "        \n",
    "        curr.next=value\n",
    "        \n",
    "    def insert_middle(self,val=None): # insert at the middle\n",
    "        slow=self.head\n",
    "        fast=self.head\n",
    "        value=Node(val)\n",
    "        \n",
    "        while(fast and fast.next):\n",
    "            slow=slow.next\n",
    "            fast=fast.next.next\n",
    "        \n",
    "        later=slow.next\n",
    "        value.next=later\n",
    "        slow.next=value\n",
    "        \n",
    "    def insert_at(self,pos=None,val=None): #insert at a particular location\n",
    "        curr=self.head\n",
    "        value=Node(val)\n",
    "        counter=0\n",
    "        prev=None\n",
    "        is_available=False\n",
    "        \n",
    "        if pos==0:\n",
    "            self.insert_beg(val)\n",
    "            return\n",
    "        \n",
    "        while(curr and counter<=pos):\n",
    "            if counter==pos:\n",
    "                is_available=True\n",
    "                break\n",
    "            else:\n",
    "                counter+=1\n",
    "                prev=curr\n",
    "                curr=curr.next\n",
    "        if (is_available):\n",
    "            value.next=curr\n",
    "            prev.next=value\n",
    "        else:\n",
    "            print(\"Enter the valid Location\")\n",
    "    \n",
    "    def search(self,val):  #search a particular value !!!!!!\n",
    "        curr=self.head\n",
    "        \n",
    "        while(curr):\n",
    "            if curr.data==val:\n",
    "                return True\n",
    "            curr=curr.next\n",
    "        \n",
    "        return False\n",
    "    \n",
    "    def remove_beg(self):\n",
    "        if self.head==None:\n",
    "            print('List is Empty !')\n",
    "        else:\n",
    "            self.head=self.head.next\n",
    "            return\n",
    "    \n",
    "    def remove_end(self):\n",
    "        if self.head==None:\n",
    "            print('List is Empty')\n",
    "        else:\n",
    "            curr=self.head\n",
    "            prev=None\n",
    "            while curr.next:\n",
    "                prev=curr\n",
    "                curr=curr.next\n",
    "            prev.next=None\n",
    "            return\n",
    "        \n",
    "    def remove_at(self,pos):\n",
    "        \n",
    "        \n",
    "list1=SingleLL() # instance of SingleLL(singly linked list !!)\n",
    "\n",
    "val1=Node(1)\n",
    "val2=Node(2)\n",
    "val3=Node(3)\n",
    "\n",
    "list1.head=val1\n",
    "val1.next=val2\n",
    "val2.next=val3\n",
    "\n",
    "list1.traverse() # normal traversal"
   ]
  },
  {
   "cell_type": "code",
   "execution_count": 81,
   "id": "93cc31a7",
   "metadata": {},
   "outputs": [
    {
     "name": "stdout",
     "output_type": "stream",
     "text": [
      "0\n",
      "1\n",
      "2\n",
      "3\n"
     ]
    }
   ],
   "source": [
    "# insert at the beg \n",
    "list1.insert_beg(0)\n",
    "list1.traverse()"
   ]
  },
  {
   "cell_type": "code",
   "execution_count": 82,
   "id": "2abdb793",
   "metadata": {},
   "outputs": [
    {
     "name": "stdout",
     "output_type": "stream",
     "text": [
      "0\n",
      "1\n",
      "2\n",
      "3\n",
      "4\n"
     ]
    }
   ],
   "source": [
    "# insert at the end\n",
    "list1.insert_end(4)\n",
    "list1.traverse()"
   ]
  },
  {
   "cell_type": "code",
   "execution_count": 83,
   "id": "42718a9e",
   "metadata": {},
   "outputs": [
    {
     "name": "stdout",
     "output_type": "stream",
     "text": [
      "0\n",
      "1\n",
      "2\n",
      "Middle\n",
      "3\n",
      "4\n"
     ]
    }
   ],
   "source": [
    "# insert at the middle\n",
    "list1.insert_middle('Middle')\n",
    "list1.traverse()"
   ]
  },
  {
   "cell_type": "code",
   "execution_count": 84,
   "id": "d2f2914b",
   "metadata": {},
   "outputs": [
    {
     "name": "stdout",
     "output_type": "stream",
     "text": [
      "False\n"
     ]
    }
   ],
   "source": [
    "# search a value in LL\n",
    "print(list1.search('middle'))"
   ]
  },
  {
   "cell_type": "code",
   "execution_count": 85,
   "id": "f7e5c20f",
   "metadata": {},
   "outputs": [
    {
     "name": "stdout",
     "output_type": "stream",
     "text": [
      "1\n",
      "2\n",
      "Middle\n",
      "3\n",
      "4\n"
     ]
    }
   ],
   "source": [
    "list1.remove_beg()\n",
    "list1.traverse()"
   ]
  },
  {
   "cell_type": "code",
   "execution_count": 86,
   "id": "a2d0fb52",
   "metadata": {},
   "outputs": [
    {
     "name": "stdout",
     "output_type": "stream",
     "text": [
      "1\n",
      "2\n",
      "Middle\n",
      "3\n"
     ]
    }
   ],
   "source": [
    "list1.remove_end()\n",
    "list1.traverse()"
   ]
  },
  {
   "cell_type": "code",
   "execution_count": null,
   "id": "337a51db",
   "metadata": {},
   "outputs": [],
   "source": []
  }
 ],
 "metadata": {
  "kernelspec": {
   "display_name": "Python 3 (ipykernel)",
   "language": "python",
   "name": "python3"
  },
  "language_info": {
   "codemirror_mode": {
    "name": "ipython",
    "version": 3
   },
   "file_extension": ".py",
   "mimetype": "text/x-python",
   "name": "python",
   "nbconvert_exporter": "python",
   "pygments_lexer": "ipython3",
   "version": "3.11.0"
  }
 },
 "nbformat": 4,
 "nbformat_minor": 5
}
