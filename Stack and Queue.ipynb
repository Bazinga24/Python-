{
 "cells": [
  {
   "cell_type": "markdown",
   "id": "2fa14d9f",
   "metadata": {},
   "source": [
    "# USING LIST/ ARRAY"
   ]
  },
  {
   "cell_type": "markdown",
   "id": "82abc1a6",
   "metadata": {},
   "source": [
    "# Stack"
   ]
  },
  {
   "cell_type": "code",
   "execution_count": 61,
   "id": "55e38fc2",
   "metadata": {},
   "outputs": [],
   "source": [
    "class Stack:\n",
    "    def __init__(self):\n",
    "        self.stk=[]\n",
    "    \n",
    "    def push(self,val=None):\n",
    "        self.stk.append(val)\n",
    "        return\n",
    "    \n",
    "    def pop(self):\n",
    "        top=len(self.stk)-1\n",
    "        if top==-1:\n",
    "            print(\"Stack is empty\")\n",
    "            return\n",
    "        \n",
    "        else:\n",
    "            val=self.stk.pop()\n",
    "            top=top-1\n",
    "            return val\n",
    "   \n",
    "    def display(self):\n",
    "        top=len(self.stk)-1\n",
    "        \n",
    "        if top==-1:\n",
    "            print('Stack is empty')\n",
    "            return\n",
    "        \n",
    "        for i in range(top,-1,-1): # last minus -1 means decrease the value by 1\n",
    "            print(self.stk[i])\n",
    "            "
   ]
  },
  {
   "cell_type": "code",
   "execution_count": 62,
   "id": "7055f23e",
   "metadata": {},
   "outputs": [],
   "source": [
    "st=Stack()"
   ]
  },
  {
   "cell_type": "code",
   "execution_count": 63,
   "id": "9507ee2d",
   "metadata": {},
   "outputs": [
    {
     "name": "stdout",
     "output_type": "stream",
     "text": [
      "1\n",
      "2\n",
      "3\n"
     ]
    }
   ],
   "source": [
    "st.push(3)\n",
    "st.push(2)\n",
    "st.push(1)\n",
    "st.display()"
   ]
  },
  {
   "cell_type": "code",
   "execution_count": 64,
   "id": "7459dd36",
   "metadata": {},
   "outputs": [
    {
     "name": "stdout",
     "output_type": "stream",
     "text": [
      "1\n",
      "2\n"
     ]
    }
   ],
   "source": [
    "print(st.pop())\n",
    "print(st.pop())\n",
    "#st.display()"
   ]
  },
  {
   "cell_type": "markdown",
   "id": "69378d04",
   "metadata": {},
   "source": [
    "# Queue"
   ]
  },
  {
   "cell_type": "code",
   "execution_count": 76,
   "id": "7e907b9f",
   "metadata": {},
   "outputs": [],
   "source": [
    "class Queue:\n",
    "    def __init__(self):\n",
    "        self.que=[]\n",
    "        \n",
    "    def push(self,val=None):\n",
    "        self.que.append(val)\n",
    "        \n",
    "    def pop(self):\n",
    "        if len(self.que)==0:\n",
    "            print('Queue is Empty !!!')\n",
    "            return\n",
    "        \n",
    "        else:\n",
    "            val=self.que[0]\n",
    "            self.que.pop(0)\n",
    "            return val\n",
    "        \n",
    "    def display(self):\n",
    "        top=len(self.que)\n",
    "        if top==0:\n",
    "            print('Queue is empty !!')\n",
    "            return\n",
    "        \n",
    "        else:\n",
    "            for i in range(0,top,1):\n",
    "                print(self.que[i])\n",
    "                \n",
    "        \n",
    "        "
   ]
  },
  {
   "cell_type": "code",
   "execution_count": 77,
   "id": "510e6e80",
   "metadata": {},
   "outputs": [],
   "source": [
    "que=Queue()"
   ]
  },
  {
   "cell_type": "code",
   "execution_count": 78,
   "id": "46f4decf",
   "metadata": {},
   "outputs": [
    {
     "name": "stdout",
     "output_type": "stream",
     "text": [
      "1\n",
      "2\n",
      "3\n"
     ]
    }
   ],
   "source": [
    "que.push(1)\n",
    "que.push(2)\n",
    "que.push(3)\n",
    "\n",
    "que.display()"
   ]
  },
  {
   "cell_type": "code",
   "execution_count": 79,
   "id": "8a076c22",
   "metadata": {},
   "outputs": [
    {
     "name": "stdout",
     "output_type": "stream",
     "text": [
      "1\n",
      "2\n",
      "3\n"
     ]
    }
   ],
   "source": [
    "print(que.pop())\n",
    "print(que.pop())\n",
    "print(que.pop())\n"
   ]
  },
  {
   "cell_type": "markdown",
   "id": "b66c6695",
   "metadata": {},
   "source": [
    "# USING LINKED LIST"
   ]
  },
  {
   "cell_type": "markdown",
   "id": "36d6c96f",
   "metadata": {},
   "source": [
    "# Stack"
   ]
  },
  {
   "cell_type": "code",
   "execution_count": 95,
   "id": "eaa5eb8f",
   "metadata": {},
   "outputs": [],
   "source": [
    "class Node:\n",
    "    def __init__(self,val=None):\n",
    "        self.data=val\n",
    "        self.next=None\n",
    "    \n",
    "class Stack:\n",
    "    def __init__(self):\n",
    "        self.head=None\n",
    "        \n",
    "    def push(self,dataval=None):\n",
    "        node=Node(dataval)\n",
    "        curr=self.head\n",
    "        \n",
    "        node.next=self.head\n",
    "        self.head=node\n",
    "        return\n",
    "    \n",
    "    def pop(self):\n",
    "        if self.head==None:\n",
    "            print('Stack is empty !')\n",
    "            return\n",
    "        else:\n",
    "            val=self.head.data\n",
    "            self.head=self.head.next\n",
    "            return val\n",
    "    \n",
    "    def display(self):\n",
    "        curr=self.head\n",
    "        if curr==None:\n",
    "            print('Stack is empty !!')\n",
    "            return\n",
    "        \n",
    "        while(curr):\n",
    "            print(curr.data)\n",
    "            curr=curr.next\n",
    "            \n",
    "            \n",
    "    "
   ]
  },
  {
   "cell_type": "code",
   "execution_count": 96,
   "id": "61beafaa",
   "metadata": {},
   "outputs": [],
   "source": [
    "st=Stack()"
   ]
  },
  {
   "cell_type": "code",
   "execution_count": 97,
   "id": "14e6f9f3",
   "metadata": {},
   "outputs": [
    {
     "name": "stdout",
     "output_type": "stream",
     "text": [
      "1\n",
      "2\n",
      "3\n"
     ]
    }
   ],
   "source": [
    "st.push(3)\n",
    "st.push(2)\n",
    "st.push(1)\n",
    "st.display()"
   ]
  },
  {
   "cell_type": "code",
   "execution_count": 98,
   "id": "f785b354",
   "metadata": {},
   "outputs": [
    {
     "name": "stdout",
     "output_type": "stream",
     "text": [
      "1\n",
      "2\n",
      "3\n"
     ]
    }
   ],
   "source": [
    "print(st.pop())\n",
    "print(st.pop())\n",
    "print(st.pop())"
   ]
  },
  {
   "cell_type": "markdown",
   "id": "22435651",
   "metadata": {},
   "source": [
    "# Queue"
   ]
  },
  {
   "cell_type": "code",
   "execution_count": 103,
   "id": "511b7c13",
   "metadata": {},
   "outputs": [],
   "source": [
    "class Node:\n",
    "    def __init__(self,val=None):\n",
    "        self.data=val\n",
    "        self.next=None\n",
    "\n",
    "class Queue:\n",
    "    def __init__(self):\n",
    "        self.head=None\n",
    "        \n",
    "    def push(self,dataval=None):\n",
    "        node=Node(dataval)\n",
    "        curr=self.head\n",
    "        \n",
    "        if(self.head==None):\n",
    "            self.head=node\n",
    "            return\n",
    "        \n",
    "        while(curr.next):\n",
    "            curr=curr.next\n",
    "        \n",
    "        curr.next=node\n",
    "    \n",
    "    def pop(self):\n",
    "        if self.head==None:\n",
    "            print('Queue is empty !')\n",
    "            return\n",
    "        else:\n",
    "            val=self.head.data\n",
    "            self.head=self.head.next\n",
    "            return val\n",
    "    \n",
    "    def display(self):\n",
    "        curr=self.head\n",
    "        if curr==None:\n",
    "            print('Queue is empty !!')\n",
    "            return\n",
    "        \n",
    "        while(curr):\n",
    "            print(curr.data)\n",
    "            curr=curr.next\n",
    "                    "
   ]
  },
  {
   "cell_type": "code",
   "execution_count": 104,
   "id": "4352af4b",
   "metadata": {},
   "outputs": [],
   "source": [
    "que=Queue()"
   ]
  },
  {
   "cell_type": "code",
   "execution_count": 105,
   "id": "803f739e",
   "metadata": {},
   "outputs": [
    {
     "name": "stdout",
     "output_type": "stream",
     "text": [
      "3\n",
      "2\n",
      "1\n"
     ]
    }
   ],
   "source": [
    "que.push(3)\n",
    "que.push(2)\n",
    "que.push(1)\n",
    "\n",
    "que.display()"
   ]
  },
  {
   "cell_type": "code",
   "execution_count": 106,
   "id": "b210bbc4",
   "metadata": {},
   "outputs": [
    {
     "name": "stdout",
     "output_type": "stream",
     "text": [
      "3\n",
      "2\n",
      "1\n"
     ]
    }
   ],
   "source": [
    "print(que.pop())\n",
    "print(que.pop())\n",
    "print(que.pop())"
   ]
  },
  {
   "cell_type": "code",
   "execution_count": null,
   "id": "2776ae6e",
   "metadata": {},
   "outputs": [],
   "source": []
  }
 ],
 "metadata": {
  "kernelspec": {
   "display_name": "Python 3 (ipykernel)",
   "language": "python",
   "name": "python3"
  },
  "language_info": {
   "codemirror_mode": {
    "name": "ipython",
    "version": 3
   },
   "file_extension": ".py",
   "mimetype": "text/x-python",
   "name": "python",
   "nbconvert_exporter": "python",
   "pygments_lexer": "ipython3",
   "version": "3.11.0"
  }
 },
 "nbformat": 4,
 "nbformat_minor": 5
}
